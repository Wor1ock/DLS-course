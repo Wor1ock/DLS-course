{
  "nbformat": 4,
  "nbformat_minor": 0,
  "metadata": {
    "colab": {
      "provenance": [],
      "authorship_tag": "ABX9TyPbmwgMJp9RFwti35kHQFdC",
      "include_colab_link": true
    },
    "kernelspec": {
      "name": "python3",
      "display_name": "Python 3"
    },
    "language_info": {
      "name": "python"
    }
  },
  "cells": [
    {
      "cell_type": "markdown",
      "metadata": {
        "id": "view-in-github",
        "colab_type": "text"
      },
      "source": [
        "<a href=\"https://colab.research.google.com/github/Wor1ock/DLS-course/blob/main/DLS%3A%20Linear%20and%20GB%20models.ipynb\" target=\"_parent\"><img src=\"https://colab.research.google.com/assets/colab-badge.svg\" alt=\"Open In Colab\"/></a>"
      ]
    },
    {
      "cell_type": "markdown",
      "source": [
        "# Первая часть. Исследование данных"
      ],
      "metadata": {
        "id": "Bn-_6VEg1d5E"
      }
    },
    {
      "cell_type": "markdown",
      "source": [
        "## 1. Загрузка данных"
      ],
      "metadata": {
        "id": "0brTd-VQ1JkB"
      }
    },
    {
      "cell_type": "code",
      "source": [
        "import pandas as pd\n",
        "import numpy as np\n",
        "from matplotlib import pyplot as plt"
      ],
      "metadata": {
        "id": "ETR1GTHf1ZkE"
      },
      "execution_count": 1,
      "outputs": []
    },
    {
      "cell_type": "code",
      "source": [
        "train = pd.read_csv('/kaggle/input/advanced-dls-spring-2021/train.csv')\n",
        "test = pd.read_csv('/kaggle/input/advanced-dls-spring-2021/test.csv')\n",
        "submission_example = pd.read_csv('/kaggle/input/advanced-dls-spring-2021/submission.csv')\n",
        "\n",
        "train.shape, test.shape"
      ],
      "metadata": {
        "id": "6HOqQs231uYF"
      },
      "execution_count": null,
      "outputs": []
    },
    {
      "cell_type": "code",
      "source": [],
      "metadata": {
        "id": "wUEN0Qd31vsU"
      },
      "execution_count": null,
      "outputs": []
    }
  ]
}